{
 "cells": [
  {
   "cell_type": "code",
   "execution_count": 1,
   "metadata": {},
   "outputs": [
    {
     "name": "stderr",
     "output_type": "stream",
     "text": [
      "/Users/minhajul/miniconda3/envs/ide2/lib/python3.12/site-packages/tqdm/auto.py:21: TqdmWarning: IProgress not found. Please update jupyter and ipywidgets. See https://ipywidgets.readthedocs.io/en/stable/user_install.html\n",
      "  from .autonotebook import tqdm as notebook_tqdm\n"
     ]
    }
   ],
   "source": [
    "import pandas as pd\n",
    "\n",
    "splits = {'train': 'labeled_final/train-00000-of-00001.parquet', 'test': 'labeled_final/test-00000-of-00001.parquet', 'validation': 'labeled_final/validation-00000-of-00001.parquet'}\n",
    "df = pd.read_parquet(\"hf://datasets/google-research-datasets/paws/\" + splits[\"train\"])"
   ]
  },
  {
   "cell_type": "code",
   "execution_count": 2,
   "metadata": {},
   "outputs": [
    {
     "data": {
      "text/html": [
       "<div>\n",
       "<style scoped>\n",
       "    .dataframe tbody tr th:only-of-type {\n",
       "        vertical-align: middle;\n",
       "    }\n",
       "\n",
       "    .dataframe tbody tr th {\n",
       "        vertical-align: top;\n",
       "    }\n",
       "\n",
       "    .dataframe thead th {\n",
       "        text-align: right;\n",
       "    }\n",
       "</style>\n",
       "<table border=\"1\" class=\"dataframe\">\n",
       "  <thead>\n",
       "    <tr style=\"text-align: right;\">\n",
       "      <th></th>\n",
       "      <th>id</th>\n",
       "      <th>sentence1</th>\n",
       "      <th>sentence2</th>\n",
       "      <th>label</th>\n",
       "    </tr>\n",
       "  </thead>\n",
       "  <tbody>\n",
       "    <tr>\n",
       "      <th>0</th>\n",
       "      <td>1</td>\n",
       "      <td>In Paris , in October 1560 , he secretly met t...</td>\n",
       "      <td>In October 1560 , he secretly met with the Eng...</td>\n",
       "      <td>0</td>\n",
       "    </tr>\n",
       "    <tr>\n",
       "      <th>1</th>\n",
       "      <td>2</td>\n",
       "      <td>The NBA season of 1975 -- 76 was the 30th seas...</td>\n",
       "      <td>The 1975 -- 76 season of the National Basketba...</td>\n",
       "      <td>1</td>\n",
       "    </tr>\n",
       "    <tr>\n",
       "      <th>2</th>\n",
       "      <td>3</td>\n",
       "      <td>There are also specific discussions , public p...</td>\n",
       "      <td>There are also public discussions , profile sp...</td>\n",
       "      <td>0</td>\n",
       "    </tr>\n",
       "    <tr>\n",
       "      <th>3</th>\n",
       "      <td>4</td>\n",
       "      <td>When comparable rates of flow can be maintaine...</td>\n",
       "      <td>The results are high when comparable flow rate...</td>\n",
       "      <td>1</td>\n",
       "    </tr>\n",
       "    <tr>\n",
       "      <th>4</th>\n",
       "      <td>5</td>\n",
       "      <td>It is the seat of Zerendi District in Akmola R...</td>\n",
       "      <td>It is the seat of the district of Zerendi in A...</td>\n",
       "      <td>1</td>\n",
       "    </tr>\n",
       "    <tr>\n",
       "      <th>...</th>\n",
       "      <td>...</td>\n",
       "      <td>...</td>\n",
       "      <td>...</td>\n",
       "      <td>...</td>\n",
       "    </tr>\n",
       "    <tr>\n",
       "      <th>49396</th>\n",
       "      <td>49397</td>\n",
       "      <td>`` Our school is of spiritual and spiritual , ...</td>\n",
       "      <td>`` Our School is of the Temporal and the Spiri...</td>\n",
       "      <td>0</td>\n",
       "    </tr>\n",
       "    <tr>\n",
       "      <th>49397</th>\n",
       "      <td>49398</td>\n",
       "      <td>She was in Cork on June 24 and arrived on 8 Ju...</td>\n",
       "      <td>She was at Cork on 24 June , and arrived in th...</td>\n",
       "      <td>1</td>\n",
       "    </tr>\n",
       "    <tr>\n",
       "      <th>49398</th>\n",
       "      <td>49399</td>\n",
       "      <td>Cornelia Stuyvesant Vanderbilt ( George and Ed...</td>\n",
       "      <td>John John F. A. Cecil ( the only child of Geor...</td>\n",
       "      <td>0</td>\n",
       "    </tr>\n",
       "    <tr>\n",
       "      <th>49399</th>\n",
       "      <td>49400</td>\n",
       "      <td>The third season was premiered on 7 June 2010 ...</td>\n",
       "      <td>The fourth season was premiered on June 7 , 20...</td>\n",
       "      <td>0</td>\n",
       "    </tr>\n",
       "    <tr>\n",
       "      <th>49400</th>\n",
       "      <td>49401</td>\n",
       "      <td>It is also from a location on the mainland Los...</td>\n",
       "      <td>It is also known from one location on the main...</td>\n",
       "      <td>0</td>\n",
       "    </tr>\n",
       "  </tbody>\n",
       "</table>\n",
       "<p>49401 rows × 4 columns</p>\n",
       "</div>"
      ],
      "text/plain": [
       "          id                                          sentence1  \\\n",
       "0          1  In Paris , in October 1560 , he secretly met t...   \n",
       "1          2  The NBA season of 1975 -- 76 was the 30th seas...   \n",
       "2          3  There are also specific discussions , public p...   \n",
       "3          4  When comparable rates of flow can be maintaine...   \n",
       "4          5  It is the seat of Zerendi District in Akmola R...   \n",
       "...      ...                                                ...   \n",
       "49396  49397  `` Our school is of spiritual and spiritual , ...   \n",
       "49397  49398  She was in Cork on June 24 and arrived on 8 Ju...   \n",
       "49398  49399  Cornelia Stuyvesant Vanderbilt ( George and Ed...   \n",
       "49399  49400  The third season was premiered on 7 June 2010 ...   \n",
       "49400  49401  It is also from a location on the mainland Los...   \n",
       "\n",
       "                                               sentence2  label  \n",
       "0      In October 1560 , he secretly met with the Eng...      0  \n",
       "1      The 1975 -- 76 season of the National Basketba...      1  \n",
       "2      There are also public discussions , profile sp...      0  \n",
       "3      The results are high when comparable flow rate...      1  \n",
       "4      It is the seat of the district of Zerendi in A...      1  \n",
       "...                                                  ...    ...  \n",
       "49396  `` Our School is of the Temporal and the Spiri...      0  \n",
       "49397  She was at Cork on 24 June , and arrived in th...      1  \n",
       "49398  John John F. A. Cecil ( the only child of Geor...      0  \n",
       "49399  The fourth season was premiered on June 7 , 20...      0  \n",
       "49400  It is also known from one location on the main...      0  \n",
       "\n",
       "[49401 rows x 4 columns]"
      ]
     },
     "execution_count": 2,
     "metadata": {},
     "output_type": "execute_result"
    }
   ],
   "source": [
    "df"
   ]
  },
  {
   "cell_type": "code",
   "execution_count": 3,
   "metadata": {},
   "outputs": [
    {
     "data": {
      "text/plain": [
       "label\n",
       "0    27572\n",
       "1    21829\n",
       "Name: count, dtype: int64"
      ]
     },
     "execution_count": 3,
     "metadata": {},
     "output_type": "execute_result"
    }
   ],
   "source": [
    "df.label.value_counts()"
   ]
  },
  {
   "cell_type": "code",
   "execution_count": 4,
   "metadata": {},
   "outputs": [
    {
     "name": "stdout",
     "output_type": "stream",
     "text": [
      "Shape of balanced subset: (10000, 4)\n",
      "\n",
      "Label distribution in balanced subset:\n",
      "label\n",
      "1    0.5\n",
      "0    0.5\n",
      "Name: proportion, dtype: float64\n"
     ]
    },
    {
     "data": {
      "text/html": [
       "<div>\n",
       "<style scoped>\n",
       "    .dataframe tbody tr th:only-of-type {\n",
       "        vertical-align: middle;\n",
       "    }\n",
       "\n",
       "    .dataframe tbody tr th {\n",
       "        vertical-align: top;\n",
       "    }\n",
       "\n",
       "    .dataframe thead th {\n",
       "        text-align: right;\n",
       "    }\n",
       "</style>\n",
       "<table border=\"1\" class=\"dataframe\">\n",
       "  <thead>\n",
       "    <tr style=\"text-align: right;\">\n",
       "      <th></th>\n",
       "      <th>id</th>\n",
       "      <th>sentence1</th>\n",
       "      <th>sentence2</th>\n",
       "      <th>label</th>\n",
       "    </tr>\n",
       "  </thead>\n",
       "  <tbody>\n",
       "    <tr>\n",
       "      <th>0</th>\n",
       "      <td>17344</td>\n",
       "      <td>Methods of the cubic geometry provide the foll...</td>\n",
       "      <td>Methods of cubic geometry provide the followin...</td>\n",
       "      <td>1</td>\n",
       "    </tr>\n",
       "    <tr>\n",
       "      <th>1</th>\n",
       "      <td>157</td>\n",
       "      <td>The system required the user to encode the qua...</td>\n",
       "      <td>The system required the user to encode the def...</td>\n",
       "      <td>0</td>\n",
       "    </tr>\n",
       "    <tr>\n",
       "      <th>2</th>\n",
       "      <td>27825</td>\n",
       "      <td>They also meet the twins Timmy and Tommy Resto...</td>\n",
       "      <td>They soon encounter twins Timmy and Tommy Rest...</td>\n",
       "      <td>0</td>\n",
       "    </tr>\n",
       "    <tr>\n",
       "      <th>3</th>\n",
       "      <td>6712</td>\n",
       "      <td>The music was composed by V. Dakshinamoorthy a...</td>\n",
       "      <td>The music was written by V. Dakshinamoorthy an...</td>\n",
       "      <td>0</td>\n",
       "    </tr>\n",
       "    <tr>\n",
       "      <th>4</th>\n",
       "      <td>29787</td>\n",
       "      <td>was the brother of Charles Fenton Mercer and f...</td>\n",
       "      <td>Mercer was the brother of George Mercer , John...</td>\n",
       "      <td>0</td>\n",
       "    </tr>\n",
       "  </tbody>\n",
       "</table>\n",
       "</div>"
      ],
      "text/plain": [
       "      id                                          sentence1  \\\n",
       "0  17344  Methods of the cubic geometry provide the foll...   \n",
       "1    157  The system required the user to encode the qua...   \n",
       "2  27825  They also meet the twins Timmy and Tommy Resto...   \n",
       "3   6712  The music was composed by V. Dakshinamoorthy a...   \n",
       "4  29787  was the brother of Charles Fenton Mercer and f...   \n",
       "\n",
       "                                           sentence2  label  \n",
       "0  Methods of cubic geometry provide the followin...      1  \n",
       "1  The system required the user to encode the def...      0  \n",
       "2  They soon encounter twins Timmy and Tommy Rest...      0  \n",
       "3  The music was written by V. Dakshinamoorthy an...      0  \n",
       "4  Mercer was the brother of George Mercer , John...      0  "
      ]
     },
     "execution_count": 4,
     "metadata": {},
     "output_type": "execute_result"
    }
   ],
   "source": [
    "# Take a subset with 50/50 distribution of labels 0 and 1\n",
    "label_0 = df[df['label'] == 0].sample(n=5000, random_state=42)\n",
    "label_1 = df[df['label'] == 1].sample(n=5000, random_state=42)\n",
    "\n",
    "# Combine the subsets\n",
    "balanced_df = pd.concat([label_0, label_1])\n",
    "\n",
    "# Shuffle the combined dataframe\n",
    "balanced_df = balanced_df.sample(frac=1, random_state=42).reset_index(drop=True)\n",
    "\n",
    "print(f\"Shape of balanced subset: {balanced_df.shape}\")\n",
    "print(\"\\nLabel distribution in balanced subset:\")\n",
    "print(balanced_df['label'].value_counts(normalize=True))\n",
    "\n",
    "# Display the first few rows of the balanced subset\n",
    "balanced_df.head()\n"
   ]
  },
  {
   "cell_type": "code",
   "execution_count": 6,
   "metadata": {},
   "outputs": [],
   "source": [
    "balanced_df.to_parquet(\"../storage/auto_eval_research/paws/balanced_df.parquet\")"
   ]
  },
  {
   "cell_type": "code",
   "execution_count": null,
   "metadata": {},
   "outputs": [],
   "source": []
  }
 ],
 "metadata": {
  "kernelspec": {
   "display_name": "ide2",
   "language": "python",
   "name": "python3"
  },
  "language_info": {
   "codemirror_mode": {
    "name": "ipython",
    "version": 3
   },
   "file_extension": ".py",
   "mimetype": "text/x-python",
   "name": "python",
   "nbconvert_exporter": "python",
   "pygments_lexer": "ipython3",
   "version": "3.12.4"
  }
 },
 "nbformat": 4,
 "nbformat_minor": 2
}
